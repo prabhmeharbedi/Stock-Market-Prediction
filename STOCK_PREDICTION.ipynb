{
  "cells": [
    {
      "cell_type": "markdown",
      "metadata": {
        "id": "view-in-github",
        "colab_type": "text"
      },
      "source": [
        "<a href=\"https://colab.research.google.com/github/prabhmeharbedi/Stock-Market-Prediction/blob/main/STOCK_PREDICTION.ipynb\" target=\"_parent\"><img src=\"https://colab.research.google.com/assets/colab-badge.svg\" alt=\"Open In Colab\"/></a>"
      ]
    },
    {
      "cell_type": "code",
      "execution_count": 1,
      "metadata": {
        "id": "il_wayEO-ewe"
      },
      "outputs": [],
      "source": [
        "# Install dependencies\n",
        "!pip install -q numerapi pandas matplotlib lightgbm cloudpickle pyarrow\n",
        "\n",
        "# Inline plots\n",
        "%matplotlib inline"
      ]
    },
    {
      "cell_type": "markdown",
      "metadata": {
        "id": "c3ZIF_Ob-ewf"
      },
      "source": [
        "## 1. Dataset  "
      ]
    },
    {
      "cell_type": "markdown",
      "metadata": {
        "id": "IGKZ0r6E-ewg"
      },
      "source": [
        "Let's see what files are available in the API"
      ]
    },
    {
      "cell_type": "code",
      "execution_count": 2,
      "metadata": {
        "id": "jgQTZZzZ-ewg",
        "outputId": "b6d3571f-038b-429d-faeb-923cd16bb63b",
        "colab": {
          "base_uri": "https://localhost:8080/"
        }
      },
      "outputs": [
        {
          "output_type": "execute_result",
          "data": {
            "text/plain": [
              "['v4.1/features.json',\n",
              " 'v4.1/live.parquet',\n",
              " 'v4.1/live_example_preds.csv',\n",
              " 'v4.1/live_example_preds.parquet',\n",
              " 'v4.1/live_int8.parquet',\n",
              " 'v4.1/meta_model.parquet',\n",
              " 'v4.1/train.parquet',\n",
              " 'v4.1/train_int8.parquet',\n",
              " 'v4.1/validation.parquet',\n",
              " 'v4.1/validation_example_preds.csv',\n",
              " 'v4.1/validation_example_preds.parquet',\n",
              " 'v4.1/validation_int8.parquet']"
            ]
          },
          "metadata": {},
          "execution_count": 2
        }
      ],
      "source": [
        "# NumerAPI is the official Python API client for Numerai\n",
        "from numerapi import NumerAPI\n",
        "napi = NumerAPI()\n",
        "\n",
        "# v4.1 is the latest version of the dataset\n",
        "[f for f in napi.list_datasets() if f.startswith(\"v4.1\")]"
      ]
    },
    {
      "cell_type": "markdown",
      "metadata": {
        "id": "WI3Atxqh-ewh"
      },
      "source": [
        "Let's start by downloading `train.parquet` - the historical training data."
      ]
    },
    {
      "cell_type": "code",
      "execution_count": 3,
      "metadata": {
        "id": "KOHYIXaA-ewh",
        "outputId": "d8df8060-87d9-4c7c-ca22-da5d8e8b7da4",
        "colab": {
          "base_uri": "https://localhost:8080/",
          "height": 484
        }
      },
      "outputs": [
        {
          "output_type": "stream",
          "name": "stderr",
          "text": [
            "v4.1/train.parquet: 1.45GB [00:51, 28.0MB/s]                            \n",
            "v4.1/features.json: 703kB [00:00, 1.76MB/s]                          \n"
          ]
        },
        {
          "output_type": "execute_result",
          "data": {
            "text/plain": [
              "                   era  feature_bijou_penetrant_syringa  ...  \\\n",
              "id                                                       ...   \n",
              "n003bba8a98662e4  0001                             0.00  ...   \n",
              "n003bee128c2fcfc  0001                             0.50  ...   \n",
              "n0048ac83aff7194  0001                             0.25  ...   \n",
              "n00691bec80d3e02  0001                             0.75  ...   \n",
              "n00b8720a2fdc4f2  0001                             0.00  ...   \n",
              "...                ...                              ...  ...   \n",
              "nffcc1dbdf2212e6  0574                             1.00  ...   \n",
              "nffd71b7f6a128df  0574                             0.75  ...   \n",
              "nffde3b371d67394  0574                             0.75  ...   \n",
              "nfff1a1111b35e84  0574                             0.25  ...   \n",
              "nfff2bd38e397265  0574                             1.00  ...   \n",
              "\n",
              "                  feature_unventilated_sollar_bason  target  \n",
              "id                                                           \n",
              "n003bba8a98662e4                               0.00    0.25  \n",
              "n003bee128c2fcfc                               0.25    0.75  \n",
              "n0048ac83aff7194                               1.00    0.25  \n",
              "n00691bec80d3e02                               0.75    0.75  \n",
              "n00b8720a2fdc4f2                               0.00    0.50  \n",
              "...                                             ...     ...  \n",
              "nffcc1dbdf2212e6                               1.00    0.75  \n",
              "nffd71b7f6a128df                               0.50    0.25  \n",
              "nffde3b371d67394                               1.00    0.25  \n",
              "nfff1a1111b35e84                               0.00    0.50  \n",
              "nfff2bd38e397265                               1.00    0.75  \n",
              "\n",
              "[2420521 rows x 34 columns]"
            ],
            "text/html": [
              "\n",
              "  <div id=\"df-921825bf-1bf7-4b3b-8288-e2a03c9f40af\">\n",
              "    <div class=\"colab-df-container\">\n",
              "      <div>\n",
              "<style scoped>\n",
              "    .dataframe tbody tr th:only-of-type {\n",
              "        vertical-align: middle;\n",
              "    }\n",
              "\n",
              "    .dataframe tbody tr th {\n",
              "        vertical-align: top;\n",
              "    }\n",
              "\n",
              "    .dataframe thead th {\n",
              "        text-align: right;\n",
              "    }\n",
              "</style>\n",
              "<table border=\"1\" class=\"dataframe\">\n",
              "  <thead>\n",
              "    <tr style=\"text-align: right;\">\n",
              "      <th></th>\n",
              "      <th>era</th>\n",
              "      <th>feature_bijou_penetrant_syringa</th>\n",
              "      <th>...</th>\n",
              "      <th>feature_unventilated_sollar_bason</th>\n",
              "      <th>target</th>\n",
              "    </tr>\n",
              "    <tr>\n",
              "      <th>id</th>\n",
              "      <th></th>\n",
              "      <th></th>\n",
              "      <th></th>\n",
              "      <th></th>\n",
              "      <th></th>\n",
              "    </tr>\n",
              "  </thead>\n",
              "  <tbody>\n",
              "    <tr>\n",
              "      <th>n003bba8a98662e4</th>\n",
              "      <td>0001</td>\n",
              "      <td>0.00</td>\n",
              "      <td>...</td>\n",
              "      <td>0.00</td>\n",
              "      <td>0.25</td>\n",
              "    </tr>\n",
              "    <tr>\n",
              "      <th>n003bee128c2fcfc</th>\n",
              "      <td>0001</td>\n",
              "      <td>0.50</td>\n",
              "      <td>...</td>\n",
              "      <td>0.25</td>\n",
              "      <td>0.75</td>\n",
              "    </tr>\n",
              "    <tr>\n",
              "      <th>n0048ac83aff7194</th>\n",
              "      <td>0001</td>\n",
              "      <td>0.25</td>\n",
              "      <td>...</td>\n",
              "      <td>1.00</td>\n",
              "      <td>0.25</td>\n",
              "    </tr>\n",
              "    <tr>\n",
              "      <th>n00691bec80d3e02</th>\n",
              "      <td>0001</td>\n",
              "      <td>0.75</td>\n",
              "      <td>...</td>\n",
              "      <td>0.75</td>\n",
              "      <td>0.75</td>\n",
              "    </tr>\n",
              "    <tr>\n",
              "      <th>n00b8720a2fdc4f2</th>\n",
              "      <td>0001</td>\n",
              "      <td>0.00</td>\n",
              "      <td>...</td>\n",
              "      <td>0.00</td>\n",
              "      <td>0.50</td>\n",
              "    </tr>\n",
              "    <tr>\n",
              "      <th>...</th>\n",
              "      <td>...</td>\n",
              "      <td>...</td>\n",
              "      <td>...</td>\n",
              "      <td>...</td>\n",
              "      <td>...</td>\n",
              "    </tr>\n",
              "    <tr>\n",
              "      <th>nffcc1dbdf2212e6</th>\n",
              "      <td>0574</td>\n",
              "      <td>1.00</td>\n",
              "      <td>...</td>\n",
              "      <td>1.00</td>\n",
              "      <td>0.75</td>\n",
              "    </tr>\n",
              "    <tr>\n",
              "      <th>nffd71b7f6a128df</th>\n",
              "      <td>0574</td>\n",
              "      <td>0.75</td>\n",
              "      <td>...</td>\n",
              "      <td>0.50</td>\n",
              "      <td>0.25</td>\n",
              "    </tr>\n",
              "    <tr>\n",
              "      <th>nffde3b371d67394</th>\n",
              "      <td>0574</td>\n",
              "      <td>0.75</td>\n",
              "      <td>...</td>\n",
              "      <td>1.00</td>\n",
              "      <td>0.25</td>\n",
              "    </tr>\n",
              "    <tr>\n",
              "      <th>nfff1a1111b35e84</th>\n",
              "      <td>0574</td>\n",
              "      <td>0.25</td>\n",
              "      <td>...</td>\n",
              "      <td>0.00</td>\n",
              "      <td>0.50</td>\n",
              "    </tr>\n",
              "    <tr>\n",
              "      <th>nfff2bd38e397265</th>\n",
              "      <td>0574</td>\n",
              "      <td>1.00</td>\n",
              "      <td>...</td>\n",
              "      <td>1.00</td>\n",
              "      <td>0.75</td>\n",
              "    </tr>\n",
              "  </tbody>\n",
              "</table>\n",
              "<p>2420521 rows × 34 columns</p>\n",
              "</div>\n",
              "      <button class=\"colab-df-convert\" onclick=\"convertToInteractive('df-921825bf-1bf7-4b3b-8288-e2a03c9f40af')\"\n",
              "              title=\"Convert this dataframe to an interactive table.\"\n",
              "              style=\"display:none;\">\n",
              "        \n",
              "  <svg xmlns=\"http://www.w3.org/2000/svg\" height=\"24px\"viewBox=\"0 0 24 24\"\n",
              "       width=\"24px\">\n",
              "    <path d=\"M0 0h24v24H0V0z\" fill=\"none\"/>\n",
              "    <path d=\"M18.56 5.44l.94 2.06.94-2.06 2.06-.94-2.06-.94-.94-2.06-.94 2.06-2.06.94zm-11 1L8.5 8.5l.94-2.06 2.06-.94-2.06-.94L8.5 2.5l-.94 2.06-2.06.94zm10 10l.94 2.06.94-2.06 2.06-.94-2.06-.94-.94-2.06-.94 2.06-2.06.94z\"/><path d=\"M17.41 7.96l-1.37-1.37c-.4-.4-.92-.59-1.43-.59-.52 0-1.04.2-1.43.59L10.3 9.45l-7.72 7.72c-.78.78-.78 2.05 0 2.83L4 21.41c.39.39.9.59 1.41.59.51 0 1.02-.2 1.41-.59l7.78-7.78 2.81-2.81c.8-.78.8-2.07 0-2.86zM5.41 20L4 18.59l7.72-7.72 1.47 1.35L5.41 20z\"/>\n",
              "  </svg>\n",
              "      </button>\n",
              "      \n",
              "  <style>\n",
              "    .colab-df-container {\n",
              "      display:flex;\n",
              "      flex-wrap:wrap;\n",
              "      gap: 12px;\n",
              "    }\n",
              "\n",
              "    .colab-df-convert {\n",
              "      background-color: #E8F0FE;\n",
              "      border: none;\n",
              "      border-radius: 50%;\n",
              "      cursor: pointer;\n",
              "      display: none;\n",
              "      fill: #1967D2;\n",
              "      height: 32px;\n",
              "      padding: 0 0 0 0;\n",
              "      width: 32px;\n",
              "    }\n",
              "\n",
              "    .colab-df-convert:hover {\n",
              "      background-color: #E2EBFA;\n",
              "      box-shadow: 0px 1px 2px rgba(60, 64, 67, 0.3), 0px 1px 3px 1px rgba(60, 64, 67, 0.15);\n",
              "      fill: #174EA6;\n",
              "    }\n",
              "\n",
              "    [theme=dark] .colab-df-convert {\n",
              "      background-color: #3B4455;\n",
              "      fill: #D2E3FC;\n",
              "    }\n",
              "\n",
              "    [theme=dark] .colab-df-convert:hover {\n",
              "      background-color: #434B5C;\n",
              "      box-shadow: 0px 1px 3px 1px rgba(0, 0, 0, 0.15);\n",
              "      filter: drop-shadow(0px 1px 2px rgba(0, 0, 0, 0.3));\n",
              "      fill: #FFFFFF;\n",
              "    }\n",
              "  </style>\n",
              "\n",
              "      <script>\n",
              "        const buttonEl =\n",
              "          document.querySelector('#df-921825bf-1bf7-4b3b-8288-e2a03c9f40af button.colab-df-convert');\n",
              "        buttonEl.style.display =\n",
              "          google.colab.kernel.accessAllowed ? 'block' : 'none';\n",
              "\n",
              "        async function convertToInteractive(key) {\n",
              "          const element = document.querySelector('#df-921825bf-1bf7-4b3b-8288-e2a03c9f40af');\n",
              "          const dataTable =\n",
              "            await google.colab.kernel.invokeFunction('convertToInteractive',\n",
              "                                                     [key], {});\n",
              "          if (!dataTable) return;\n",
              "\n",
              "          const docLinkHtml = 'Like what you see? Visit the ' +\n",
              "            '<a target=\"_blank\" href=https://colab.research.google.com/notebooks/data_table.ipynb>data table notebook</a>'\n",
              "            + ' to learn more about interactive tables.';\n",
              "          element.innerHTML = '';\n",
              "          dataTable['output_type'] = 'display_data';\n",
              "          await google.colab.output.renderOutput(dataTable, element);\n",
              "          const docLink = document.createElement('div');\n",
              "          docLink.innerHTML = docLinkHtml;\n",
              "          element.appendChild(docLink);\n",
              "        }\n",
              "      </script>\n",
              "    </div>\n",
              "  </div>\n",
              "  "
            ]
          },
          "metadata": {},
          "execution_count": 3
        }
      ],
      "source": [
        "import pandas as pd\n",
        "import json\n",
        "\n",
        "# Download the training data and feature metadata\n",
        "# This will take about 1 minute 🍵\n",
        "napi.download_dataset(\"v4.1/train.parquet\");\n",
        "napi.download_dataset(\"v4.1/features.json\");\n",
        "\n",
        "# In this notebook, we will be using the \"small\" feature set to save time and memory\n",
        "# In practice, you will likely want to use all the features to maximize your model's performance\n",
        "feature_metadata = json.load(open(\"v4.1/features.json\"))\n",
        "feature_cols = feature_metadata[\"feature_sets\"][\"small\"]\n",
        "\n",
        "# Load the training data but only the \"small\" subset of features\n",
        "training_data = pd.read_parquet(\"v4.1/train.parquet\", columns= [\"era\"] + feature_cols + [\"target\"])\n",
        "\n",
        "# Let's take a look\n",
        "pd.set_option('display.max_rows', 10)\n",
        "pd.set_option('display.max_columns', 5)\n",
        "training_data"
      ]
    },
    {
      "cell_type": "markdown",
      "metadata": {
        "id": "M2nogUSe-ewi"
      },
      "source": [
        "Each row in the dataset corresponds to a stock at a specific point in time, represented by the `era` column.\n",
        "\n",
        "For each `era`, the number of rows is the same as the number of stocks in Numerai's investable universe at that point in time."
      ]
    },
    {
      "cell_type": "code",
      "execution_count": 4,
      "metadata": {
        "id": "qQ35rTcL-ewi",
        "outputId": "0157a9c8-f324-42a9-f88b-d875f0a83c26",
        "colab": {
          "base_uri": "https://localhost:8080/",
          "height": 333
        }
      },
      "outputs": [
        {
          "output_type": "display_data",
          "data": {
            "text/plain": [
              "<Figure size 500x300 with 1 Axes>"
            ],
            "image/png": "[encoded data removed]"
          },
          "metadata": {}
        }
      ],
      "source": [
        "# Plot the number of rows per era\n",
        "training_data.groupby(\"era\").size().plot(title=\"Number of Rows per Era\", figsize=(5, 3), xlabel=\"Era\");"
      ]
    },
    {
      "cell_type": "markdown",
      "metadata": {
        "id": "nzAcRAA7-ewi"
      },
      "source": [
        "The `features` are quantitative attributes (e.g P/E ratio) known about the stocks at the point in time.\n",
        "\n",
        "Feature values are regularized into 5 equal bins between 0 and 1 per era. This heavy regularization is to avoid overfitting as the underlying financial data is extremely noisy."
      ]
    },
    {
      "cell_type": "code",
      "execution_count": 5,
      "metadata": {
        "id": "eD3p1cBA-ewi",
        "outputId": "bd302b79-60b1-4da0-99b3-725ec0fbf5b5",
        "colab": {
          "base_uri": "https://localhost:8080/",
          "height": 314
        }
      },
      "outputs": [
        {
          "output_type": "display_data",
          "data": {
            "text/plain": [
              "<Figure size 500x300 with 1 Axes>"
            ],
            "image/png": "[encoded data removed]"
          },
          "metadata": {}
        }
      ],
      "source": [
        "# Plot density histogram of the first feature\n",
        "training_data[feature_cols[0]].plot(kind=\"hist\", title=feature_cols[0], figsize=(5, 3), xlabel=\"Value\", density=True, bins=50);"
      ]
    },
    {
      "cell_type": "markdown",
      "metadata": {
        "id": "PHtid72p-ewj"
      },
      "source": [
        "The `target` is a measure of stock market returns 20 days into the future. Your task is to predict this value given out of sample features.\n",
        "\n",
        "The target value has also been regularized but into 5 unequal bins. The distribution of target values map to the distribution of returns across the stock market."
      ]
    },
    {
      "cell_type": "code",
      "execution_count": 6,
      "metadata": {
        "id": "TdJxX3H5-ewj",
        "outputId": "708d4048-6852-472d-a780-1d241d82717c",
        "colab": {
          "base_uri": "https://localhost:8080/",
          "height": 314
        }
      },
      "outputs": [
        {
          "output_type": "display_data",
          "data": {
            "text/plain": [
              "<Figure size 500x300 with 1 Axes>"
            ],
            "image/png": "[encoded data removed]"
          },
          "metadata": {}
        }
      ],
      "source": [
        "# Plot density histogram of the target\n",
        "training_data[\"target\"].plot(kind=\"hist\", title=\"Target\", figsize=(5, 3), xlabel=\"Value\", density=True, bins=50);"
      ]
    },
    {
      "cell_type": "markdown",
      "metadata": {
        "id": "K7KNylrO-ewk"
      },
      "source": [
        "## 2. Modeling\n",
        "Let's train our first model.\n",
        "\n",
        "Here we will be using LGBM but you are free to use any tool or framework of your choice.\n",
        "\n",
        "Learn more about tree based models from our Chief Scientist MDO: https://www.youtube.com/watch?v=w8Y7hY05z7k"
      ]
    },
    {
      "cell_type": "code",
      "execution_count": 8,
      "metadata": {
        "id": "JfXBkBnU-ewk"
      },
      "outputs": [],
      "source": [
        "# https://lightgbm.readthedocs.io/en/latest/pythonapi/lightgbm.LGBMRegressor.html\n",
        "import lightgbm as lgb\n",
        "\n",
        "try:\n",
        "  # Load trained model if it exists\n",
        "  model = lgb.Booster(model_file='small_lgb.model');\n",
        "except lgb.basic.LightGBMError:\n",
        "  # Otherwise train and save the model\n",
        "  # This will take about 2 minutes 🍵\n",
        "  model = lgb.LGBMRegressor(\n",
        "    n_estimators=2000,\n",
        "    learning_rate=0.01,\n",
        "    max_depth=5,\n",
        "    num_leaves=2 ** 5,\n",
        "    colsample_bytree=0.1\n",
        "  )\n",
        "  model.fit(\n",
        "    training_data[feature_cols],\n",
        "    training_data[\"target\"]\n",
        "  );\n",
        "  # Save model to disk\n",
        "  model.booster_.save_model(\"small_lgb.model\");"
      ]
    },
    {
      "cell_type": "markdown",
      "metadata": {
        "id": "uFRfMr0B-ewk"
      },
      "source": [
        "Now let's evaluate our model's performance on the out of sample validation dataset"
      ]
    },
    {
      "cell_type": "code",
      "execution_count": 9,
      "metadata": {
        "id": "K2yFFCVu-ewl",
        "outputId": "6c5a139a-c8af-4738-fb86-a2cd6e76b8aa",
        "colab": {
          "base_uri": "https://localhost:8080/",
          "height": 467
        }
      },
      "outputs": [
        {
          "output_type": "stream",
          "name": "stderr",
          "text": [
            "v4.1/validation.parquet: 1.59GB [01:02, 25.3MB/s]                            \n"
          ]
        },
        {
          "output_type": "execute_result",
          "data": {
            "text/plain": [
              "                   era  prediction  target\n",
              "id                                        \n",
              "n000101811a8a843  0575    0.488841    0.75\n",
              "n001e1318d5072ac  0575    0.495411    0.00\n",
              "n002a9c5ab785cbb  0575    0.502395    0.50\n",
              "n002ccf6d0e8c5ad  0575    0.507658    0.00\n",
              "n0051ab821295c29  0575    0.486678    0.50\n",
              "...                ...         ...     ...\n",
              "nffdf84066bf469b  1064    0.492729    0.25\n",
              "nfff12e64e9a6fb6  1064    0.504522    0.50\n",
              "nfff134941c033f8  1064    0.488877    0.50\n",
              "nfff7011c82355f2  1064    0.486283    0.75\n",
              "nfffbd97236fc1ad  1064    0.510591    0.50\n",
              "\n",
              "[2502034 rows x 3 columns]"
            ],
            "text/html": [
              "\n",
              "  <div id=\"df-c1667a57-a680-42e6-977f-d919a691db28\">\n",
              "    <div class=\"colab-df-container\">\n",
              "      <div>\n",
              "<style scoped>\n",
              "    .dataframe tbody tr th:only-of-type {\n",
              "        vertical-align: middle;\n",
              "    }\n",
              "\n",
              "    .dataframe tbody tr th {\n",
              "        vertical-align: top;\n",
              "    }\n",
              "\n",
              "    .dataframe thead th {\n",
              "        text-align: right;\n",
              "    }\n",
              "</style>\n",
              "<table border=\"1\" class=\"dataframe\">\n",
              "  <thead>\n",
              "    <tr style=\"text-align: right;\">\n",
              "      <th></th>\n",
              "      <th>era</th>\n",
              "      <th>prediction</th>\n",
              "      <th>target</th>\n",
              "    </tr>\n",
              "    <tr>\n",
              "      <th>id</th>\n",
              "      <th></th>\n",
              "      <th></th>\n",
              "      <th></th>\n",
              "    </tr>\n",
              "  </thead>\n",
              "  <tbody>\n",
              "    <tr>\n",
              "      <th>n000101811a8a843</th>\n",
              "      <td>0575</td>\n",
              "      <td>0.488841</td>\n",
              "      <td>0.75</td>\n",
              "    </tr>\n",
              "    <tr>\n",
              "      <th>n001e1318d5072ac</th>\n",
              "      <td>0575</td>\n",
              "      <td>0.495411</td>\n",
              "      <td>0.00</td>\n",
              "    </tr>\n",
              "    <tr>\n",
              "      <th>n002a9c5ab785cbb</th>\n",
              "      <td>0575</td>\n",
              "      <td>0.502395</td>\n",
              "      <td>0.50</td>\n",
              "    </tr>\n",
              "    <tr>\n",
              "      <th>n002ccf6d0e8c5ad</th>\n",
              "      <td>0575</td>\n",
              "      <td>0.507658</td>\n",
              "      <td>0.00</td>\n",
              "    </tr>\n",
              "    <tr>\n",
              "      <th>n0051ab821295c29</th>\n",
              "      <td>0575</td>\n",
              "      <td>0.486678</td>\n",
              "      <td>0.50</td>\n",
              "    </tr>\n",
              "    <tr>\n",
              "      <th>...</th>\n",
              "      <td>...</td>\n",
              "      <td>...</td>\n",
              "      <td>...</td>\n",
              "    </tr>\n",
              "    <tr>\n",
              "      <th>nffdf84066bf469b</th>\n",
              "      <td>1064</td>\n",
              "      <td>0.492729</td>\n",
              "      <td>0.25</td>\n",
              "    </tr>\n",
              "    <tr>\n",
              "      <th>nfff12e64e9a6fb6</th>\n",
              "      <td>1064</td>\n",
              "      <td>0.504522</td>\n",
              "      <td>0.50</td>\n",
              "    </tr>\n",
              "    <tr>\n",
              "      <th>nfff134941c033f8</th>\n",
              "      <td>1064</td>\n",
              "      <td>0.488877</td>\n",
              "      <td>0.50</td>\n",
              "    </tr>\n",
              "    <tr>\n",
              "      <th>nfff7011c82355f2</th>\n",
              "      <td>1064</td>\n",
              "      <td>0.486283</td>\n",
              "      <td>0.75</td>\n",
              "    </tr>\n",
              "    <tr>\n",
              "      <th>nfffbd97236fc1ad</th>\n",
              "      <td>1064</td>\n",
              "      <td>0.510591</td>\n",
              "      <td>0.50</td>\n",
              "    </tr>\n",
              "  </tbody>\n",
              "</table>\n",
              "<p>2502034 rows × 3 columns</p>\n",
              "</div>\n",
              "      <button class=\"colab-df-convert\" onclick=\"convertToInteractive('df-c1667a57-a680-42e6-977f-d919a691db28')\"\n",
              "              title=\"Convert this dataframe to an interactive table.\"\n",
              "              style=\"display:none;\">\n",
              "        \n",
              "  <svg xmlns=\"http://www.w3.org/2000/svg\" height=\"24px\"viewBox=\"0 0 24 24\"\n",
              "       width=\"24px\">\n",
              "    <path d=\"M0 0h24v24H0V0z\" fill=\"none\"/>\n",
              "    <path d=\"M18.56 5.44l.94 2.06.94-2.06 2.06-.94-2.06-.94-.94-2.06-.94 2.06-2.06.94zm-11 1L8.5 8.5l.94-2.06 2.06-.94-2.06-.94L8.5 2.5l-.94 2.06-2.06.94zm10 10l.94 2.06.94-2.06 2.06-.94-2.06-.94-.94-2.06-.94 2.06-2.06.94z\"/><path d=\"M17.41 7.96l-1.37-1.37c-.4-.4-.92-.59-1.43-.59-.52 0-1.04.2-1.43.59L10.3 9.45l-7.72 7.72c-.78.78-.78 2.05 0 2.83L4 21.41c.39.39.9.59 1.41.59.51 0 1.02-.2 1.41-.59l7.78-7.78 2.81-2.81c.8-.78.8-2.07 0-2.86zM5.41 20L4 18.59l7.72-7.72 1.47 1.35L5.41 20z\"/>\n",
              "  </svg>\n",
              "      </button>\n",
              "      \n",
              "  <style>\n",
              "    .colab-df-container {\n",
              "      display:flex;\n",
              "      flex-wrap:wrap;\n",
              "      gap: 12px;\n",
              "    }\n",
              "\n",
              "    .colab-df-convert {\n",
              "      background-color: #E8F0FE;\n",
              "      border: none;\n",
              "      border-radius: 50%;\n",
              "      cursor: pointer;\n",
              "      display: none;\n",
              "      fill: #1967D2;\n",
              "      height: 32px;\n",
              "      padding: 0 0 0 0;\n",
              "      width: 32px;\n",
              "    }\n",
              "\n",
              "    .colab-df-convert:hover {\n",
              "      background-color: #E2EBFA;\n",
              "      box-shadow: 0px 1px 2px rgba(60, 64, 67, 0.3), 0px 1px 3px 1px rgba(60, 64, 67, 0.15);\n",
              "      fill: #174EA6;\n",
              "    }\n",
              "\n",
              "    [theme=dark] .colab-df-convert {\n",
              "      background-color: #3B4455;\n",
              "      fill: #D2E3FC;\n",
              "    }\n",
              "\n",
              "    [theme=dark] .colab-df-convert:hover {\n",
              "      background-color: #434B5C;\n",
              "      box-shadow: 0px 1px 3px 1px rgba(0, 0, 0, 0.15);\n",
              "      filter: drop-shadow(0px 1px 2px rgba(0, 0, 0, 0.3));\n",
              "      fill: #FFFFFF;\n",
              "    }\n",
              "  </style>\n",
              "\n",
              "      <script>\n",
              "        const buttonEl =\n",
              "          document.querySelector('#df-c1667a57-a680-42e6-977f-d919a691db28 button.colab-df-convert');\n",
              "        buttonEl.style.display =\n",
              "          google.colab.kernel.accessAllowed ? 'block' : 'none';\n",
              "\n",
              "        async function convertToInteractive(key) {\n",
              "          const element = document.querySelector('#df-c1667a57-a680-42e6-977f-d919a691db28');\n",
              "          const dataTable =\n",
              "            await google.colab.kernel.invokeFunction('convertToInteractive',\n",
              "                                                     [key], {});\n",
              "          if (!dataTable) return;\n",
              "\n",
              "          const docLinkHtml = 'Like what you see? Visit the ' +\n",
              "            '<a target=\"_blank\" href=https://colab.research.google.com/notebooks/data_table.ipynb>data table notebook</a>'\n",
              "            + ' to learn more about interactive tables.';\n",
              "          element.innerHTML = '';\n",
              "          dataTable['output_type'] = 'display_data';\n",
              "          await google.colab.output.renderOutput(dataTable, element);\n",
              "          const docLink = document.createElement('div');\n",
              "          docLink.innerHTML = docLinkHtml;\n",
              "          element.appendChild(docLink);\n",
              "        }\n",
              "      </script>\n",
              "    </div>\n",
              "  </div>\n",
              "  "
            ]
          },
          "metadata": {},
          "execution_count": 9
        }
      ],
      "source": [
        "# Download validation data\n",
        "# This will take about 2 minutes 🍵\n",
        "napi.download_dataset(\"v4.1/validation.parquet\");\n",
        "\n",
        "# Load the validation data but only the \"small\" subset of features\n",
        "validation_data = pd.read_parquet(\"v4.1/validation.parquet\", columns=[\"era\", \"data_type\"] + feature_cols + [\"target\"])\n",
        "\n",
        "# Filter for data_type == \"validation\"\n",
        "validation_data = validation_data[validation_data[\"data_type\"] == \"validation\"]\n",
        "del validation_data[\"data_type\"]\n",
        "\n",
        "# Generate predictions against the out of sample validation features\n",
        "# This will take about 2 minutes 🍵\n",
        "validation_data[\"prediction\"] = model.predict(validation_data[feature_cols])\n",
        "validation_data[[\"era\", \"prediction\", \"target\"]]"
      ]
    },
    {
      "cell_type": "code",
      "execution_count": 10,
      "metadata": {
        "id": "yTNLeG5L-ewl"
      },
      "outputs": [],
      "source": [
        "from scipy import stats\n",
        "import numpy as np\n",
        "\n",
        "# Numerai's primary scoring metric\n",
        "def numerai_corr(preds, target):\n",
        "    # rank (keeping ties) then gaussianize predictions to standardize prediction distributions\n",
        "    ranked_preds = (preds.rank(method=\"average\").values - 0.5) / preds.count()\n",
        "    gauss_ranked_preds = stats.norm.ppf(ranked_preds)\n",
        "    # center targets around 0\n",
        "    centered_target = target - target.mean()\n",
        "    # raise both preds and target to the power of 1.5 to accentuate the tails\n",
        "    preds_p15 = np.sign(gauss_ranked_preds) * np.abs(gauss_ranked_preds) ** 1.5\n",
        "    target_p15 = np.sign(centered_target) * np.abs(centered_target) ** 1.5\n",
        "    # finally return the Pearson correlation\n",
        "    return np.corrcoef(preds_p15, target_p15)[0, 1]"
      ]
    },
    {
      "cell_type": "code",
      "execution_count": 11,
      "metadata": {
        "id": "aQBRyL0N-ewl",
        "outputId": "1840d4fe-db0b-4002-ac4f-a441e7e3ee8d",
        "colab": {
          "base_uri": "https://localhost:8080/",
          "height": 540
        }
      },
      "outputs": [
        {
          "output_type": "display_data",
          "data": {
            "text/plain": [
              "<Figure size 1000x600 with 1 Axes>"
            ],
            "image/png": "[encoded data removed]"
          },
          "metadata": {}
        }
      ],
      "source": [
        "# Compute the per-era correlation between our predictions and the target values\n",
        "per_era_corr = validation_data.groupby(\"era\").apply(lambda x: numerai_corr(x[\"prediction\"], x[\"target\"]))\n",
        "\n",
        "# Plot the per-era correlation\n",
        "per_era_corr.plot(kind=\"bar\", title=\"Validation Correlation\", figsize=(10, 6), xticks=[]);"
      ]
    },
    {
      "cell_type": "code",
      "execution_count": 12,
      "metadata": {
        "id": "lpbtmWOv-ewm",
        "outputId": "36bcf5b9-2cc9-4440-ba05-4e5479dcfab9",
        "colab": {
          "base_uri": "https://localhost:8080/",
          "height": 564
        }
      },
      "outputs": [
        {
          "output_type": "display_data",
          "data": {
            "text/plain": [
              "<Figure size 1000x600 with 1 Axes>"
            ],
            "image/png": "[encoded data removed]"
          },
          "metadata": {}
        }
      ],
      "source": [
        "# Plot the cumulative per-era correlation\n",
        "per_era_corr.cumsum().plot(kind=\"line\", title=\"Cumulative Validation Correlation\", figsize=(10, 6));"
      ]
    },
    {
      "cell_type": "code",
      "execution_count": 13,
      "metadata": {
        "id": "l046uNOK-ewm",
        "outputId": "c287ec77-e1a9-4073-a059-0ca7d290588e",
        "colab": {
          "base_uri": "https://localhost:8080/",
          "height": 173
        }
      },
      "outputs": [
        {
          "output_type": "execute_result",
          "data": {
            "text/plain": [
              "                       Value\n",
              "Mean                0.015871\n",
              "Standard Deviation  0.021359\n",
              "Sharpe Ratio        0.743028\n",
              "Max Drawdown       -0.342537"
            ],
            "text/html": [
              "\n",
              "  <div id=\"df-29e0792a-e1c3-4199-8ead-56e2cf196e6b\">\n",
              "    <div class=\"colab-df-container\">\n",
              "      <div>\n",
              "<style scoped>\n",
              "    .dataframe tbody tr th:only-of-type {\n",
              "        vertical-align: middle;\n",
              "    }\n",
              "\n",
              "    .dataframe tbody tr th {\n",
              "        vertical-align: top;\n",
              "    }\n",
              "\n",
              "    .dataframe thead th {\n",
              "        text-align: right;\n",
              "    }\n",
              "</style>\n",
              "<table border=\"1\" class=\"dataframe\">\n",
              "  <thead>\n",
              "    <tr style=\"text-align: right;\">\n",
              "      <th></th>\n",
              "      <th>Value</th>\n",
              "    </tr>\n",
              "  </thead>\n",
              "  <tbody>\n",
              "    <tr>\n",
              "      <th>Mean</th>\n",
              "      <td>0.015871</td>\n",
              "    </tr>\n",
              "    <tr>\n",
              "      <th>Standard Deviation</th>\n",
              "      <td>0.021359</td>\n",
              "    </tr>\n",
              "    <tr>\n",
              "      <th>Sharpe Ratio</th>\n",
              "      <td>0.743028</td>\n",
              "    </tr>\n",
              "    <tr>\n",
              "      <th>Max Drawdown</th>\n",
              "      <td>-0.342537</td>\n",
              "    </tr>\n",
              "  </tbody>\n",
              "</table>\n",
              "</div>\n",
              "      <button class=\"colab-df-convert\" onclick=\"convertToInteractive('df-29e0792a-e1c3-4199-8ead-56e2cf196e6b')\"\n",
              "              title=\"Convert this dataframe to an interactive table.\"\n",
              "              style=\"display:none;\">\n",
              "        \n",
              "  <svg xmlns=\"http://www.w3.org/2000/svg\" height=\"24px\"viewBox=\"0 0 24 24\"\n",
              "       width=\"24px\">\n",
              "    <path d=\"M0 0h24v24H0V0z\" fill=\"none\"/>\n",
              "    <path d=\"M18.56 5.44l.94 2.06.94-2.06 2.06-.94-2.06-.94-.94-2.06-.94 2.06-2.06.94zm-11 1L8.5 8.5l.94-2.06 2.06-.94-2.06-.94L8.5 2.5l-.94 2.06-2.06.94zm10 10l.94 2.06.94-2.06 2.06-.94-2.06-.94-.94-2.06-.94 2.06-2.06.94z\"/><path d=\"M17.41 7.96l-1.37-1.37c-.4-.4-.92-.59-1.43-.59-.52 0-1.04.2-1.43.59L10.3 9.45l-7.72 7.72c-.78.78-.78 2.05 0 2.83L4 21.41c.39.39.9.59 1.41.59.51 0 1.02-.2 1.41-.59l7.78-7.78 2.81-2.81c.8-.78.8-2.07 0-2.86zM5.41 20L4 18.59l7.72-7.72 1.47 1.35L5.41 20z\"/>\n",
              "  </svg>\n",
              "      </button>\n",
              "      \n",
              "  <style>\n",
              "    .colab-df-container {\n",
              "      display:flex;\n",
              "      flex-wrap:wrap;\n",
              "      gap: 12px;\n",
              "    }\n",
              "\n",
              "    .colab-df-convert {\n",
              "      background-color: #E8F0FE;\n",
              "      border: none;\n",
              "      border-radius: 50%;\n",
              "      cursor: pointer;\n",
              "      display: none;\n",
              "      fill: #1967D2;\n",
              "      height: 32px;\n",
              "      padding: 0 0 0 0;\n",
              "      width: 32px;\n",
              "    }\n",
              "\n",
              "    .colab-df-convert:hover {\n",
              "      background-color: #E2EBFA;\n",
              "      box-shadow: 0px 1px 2px rgba(60, 64, 67, 0.3), 0px 1px 3px 1px rgba(60, 64, 67, 0.15);\n",
              "      fill: #174EA6;\n",
              "    }\n",
              "\n",
              "    [theme=dark] .colab-df-convert {\n",
              "      background-color: #3B4455;\n",
              "      fill: #D2E3FC;\n",
              "    }\n",
              "\n",
              "    [theme=dark] .colab-df-convert:hover {\n",
              "      background-color: #434B5C;\n",
              "      box-shadow: 0px 1px 3px 1px rgba(0, 0, 0, 0.15);\n",
              "      filter: drop-shadow(0px 1px 2px rgba(0, 0, 0, 0.3));\n",
              "      fill: #FFFFFF;\n",
              "    }\n",
              "  </style>\n",
              "\n",
              "      <script>\n",
              "        const buttonEl =\n",
              "          document.querySelector('#df-29e0792a-e1c3-4199-8ead-56e2cf196e6b button.colab-df-convert');\n",
              "        buttonEl.style.display =\n",
              "          google.colab.kernel.accessAllowed ? 'block' : 'none';\n",
              "\n",
              "        async function convertToInteractive(key) {\n",
              "          const element = document.querySelector('#df-29e0792a-e1c3-4199-8ead-56e2cf196e6b');\n",
              "          const dataTable =\n",
              "            await google.colab.kernel.invokeFunction('convertToInteractive',\n",
              "                                                     [key], {});\n",
              "          if (!dataTable) return;\n",
              "\n",
              "          const docLinkHtml = 'Like what you see? Visit the ' +\n",
              "            '<a target=\"_blank\" href=https://colab.research.google.com/notebooks/data_table.ipynb>data table notebook</a>'\n",
              "            + ' to learn more about interactive tables.';\n",
              "          element.innerHTML = '';\n",
              "          dataTable['output_type'] = 'display_data';\n",
              "          await google.colab.output.renderOutput(dataTable, element);\n",
              "          const docLink = document.createElement('div');\n",
              "          docLink.innerHTML = docLinkHtml;\n",
              "          element.appendChild(docLink);\n",
              "        }\n",
              "      </script>\n",
              "    </div>\n",
              "  </div>\n",
              "  "
            ]
          },
          "metadata": {},
          "execution_count": 13
        }
      ],
      "source": [
        "# compute performance metrics\n",
        "corr_mean = per_era_corr.mean()\n",
        "corr_std = per_era_corr.std(ddof=0)\n",
        "corr_sharpe = corr_mean / corr_std\n",
        "max_drawdown = -(per_era_corr.cumsum().expanding(min_periods=1).max() - per_era_corr.cumsum()).max()\n",
        "\n",
        "pd.DataFrame({\n",
        "    \"Mean\": corr_mean,\n",
        "    \"Standard Deviation\": corr_std,\n",
        "    \"Sharpe Ratio\": corr_sharpe,\n",
        "    \"Max Drawdown\": max_drawdown\n",
        "}, index=[\"Value\"]).T"
      ]
    },
    {
      "cell_type": "markdown",
      "metadata": {
        "id": "4AkDnETa-ewm"
      },
      "source": [
        "`Mean` correlation is the primary measure of your model's performance. An mean correlation above 0.02 is considered good.\n",
        "\n",
        "`Sharpe` is a measure of your model's consistency, a concept borrowed from finance where it usually refers to risk adjusted returns of an investment strategy. In Numerai, we compute sharpe as the average correlation divided by the standard deviation of correlations. A sharpe above 1 is considered good.\n",
        "\n",
        "`Max drawdown` is a measure of your model's risk, another concept borrowed from finance where it usually refers to the maximum financial loss suffered by an investment strategy. In Numerai, we compute max drawdown as the maximum peak to trough drop in cumulative validation correlation. A max drawdown below 0.1 in magnitude is considered good."
      ]
    },
    {
      "cell_type": "markdown",
      "metadata": {
        "id": "CEz2hr_W-ewm"
      },
      "source": [
        "## 3. Submissions\n",
        "Unlike Kaggle competitions where models are often evaluated based on their performance on a hold out test set, Numerai evaluates models based on their <ins>live performance</ins> in the real stock market.\n",
        "\n",
        "Every Tuesday-Saturday, a new live era of features is released, representing the current state of the stock market. Your task is to use the live features to generate live predictions and submit them to Numerai."
      ]
    },
    {
      "cell_type": "code",
      "execution_count": 14,
      "metadata": {
        "id": "wljfFf2k-ewn",
        "outputId": "fefb5d4c-e766-4545-c87f-13a0fb901e53",
        "colab": {
          "base_uri": "https://localhost:8080/",
          "height": 342
        }
      },
      "outputs": [
        {
          "output_type": "stream",
          "name": "stderr",
          "text": [
            "v4/live_519.parquet: 3.38MB [00:00, 5.93MB/s]                            \n"
          ]
        },
        {
          "output_type": "execute_result",
          "data": {
            "text/plain": [
              "                  prediction\n",
              "id                          \n",
              "n0025ec595e6b746    0.499563\n",
              "n005a400142b2aca    0.499377\n",
              "n00786fdd8b2e8cc    0.508095\n",
              "n007b0b1584dda03    0.495172\n",
              "n00842a3981efe44    0.500060\n",
              "...                      ...\n",
              "nffd650e9af88117    0.501087\n",
              "nffec8aab346a375    0.492268\n",
              "nfff32c49bda2047    0.501001\n",
              "nfffab724eb0af46    0.505143\n",
              "nfffd42d417a3383    0.489460\n",
              "\n",
              "[4937 rows x 1 columns]"
            ],
            "text/html": [
              "\n",
              "  <div id=\"df-7e56a94b-fc5d-4c2a-8696-cbaab5eed2a7\">\n",
              "    <div class=\"colab-df-container\">\n",
              "      <div>\n",
              "<style scoped>\n",
              "    .dataframe tbody tr th:only-of-type {\n",
              "        vertical-align: middle;\n",
              "    }\n",
              "\n",
              "    .dataframe tbody tr th {\n",
              "        vertical-align: top;\n",
              "    }\n",
              "\n",
              "    .dataframe thead th {\n",
              "        text-align: right;\n",
              "    }\n",
              "</style>\n",
              "<table border=\"1\" class=\"dataframe\">\n",
              "  <thead>\n",
              "    <tr style=\"text-align: right;\">\n",
              "      <th></th>\n",
              "      <th>prediction</th>\n",
              "    </tr>\n",
              "    <tr>\n",
              "      <th>id</th>\n",
              "      <th></th>\n",
              "    </tr>\n",
              "  </thead>\n",
              "  <tbody>\n",
              "    <tr>\n",
              "      <th>n0025ec595e6b746</th>\n",
              "      <td>0.499563</td>\n",
              "    </tr>\n",
              "    <tr>\n",
              "      <th>n005a400142b2aca</th>\n",
              "      <td>0.499377</td>\n",
              "    </tr>\n",
              "    <tr>\n",
              "      <th>n00786fdd8b2e8cc</th>\n",
              "      <td>0.508095</td>\n",
              "    </tr>\n",
              "    <tr>\n",
              "      <th>n007b0b1584dda03</th>\n",
              "      <td>0.495172</td>\n",
              "    </tr>\n",
              "    <tr>\n",
              "      <th>n00842a3981efe44</th>\n",
              "      <td>0.500060</td>\n",
              "    </tr>\n",
              "    <tr>\n",
              "      <th>...</th>\n",
              "      <td>...</td>\n",
              "    </tr>\n",
              "    <tr>\n",
              "      <th>nffd650e9af88117</th>\n",
              "      <td>0.501087</td>\n",
              "    </tr>\n",
              "    <tr>\n",
              "      <th>nffec8aab346a375</th>\n",
              "      <td>0.492268</td>\n",
              "    </tr>\n",
              "    <tr>\n",
              "      <th>nfff32c49bda2047</th>\n",
              "      <td>0.501001</td>\n",
              "    </tr>\n",
              "    <tr>\n",
              "      <th>nfffab724eb0af46</th>\n",
              "      <td>0.505143</td>\n",
              "    </tr>\n",
              "    <tr>\n",
              "      <th>nfffd42d417a3383</th>\n",
              "      <td>0.489460</td>\n",
              "    </tr>\n",
              "  </tbody>\n",
              "</table>\n",
              "<p>4937 rows × 1 columns</p>\n",
              "</div>\n",
              "      <button class=\"colab-df-convert\" onclick=\"convertToInteractive('df-7e56a94b-fc5d-4c2a-8696-cbaab5eed2a7')\"\n",
              "              title=\"Convert this dataframe to an interactive table.\"\n",
              "              style=\"display:none;\">\n",
              "        \n",
              "  <svg xmlns=\"http://www.w3.org/2000/svg\" height=\"24px\"viewBox=\"0 0 24 24\"\n",
              "       width=\"24px\">\n",
              "    <path d=\"M0 0h24v24H0V0z\" fill=\"none\"/>\n",
              "    <path d=\"M18.56 5.44l.94 2.06.94-2.06 2.06-.94-2.06-.94-.94-2.06-.94 2.06-2.06.94zm-11 1L8.5 8.5l.94-2.06 2.06-.94-2.06-.94L8.5 2.5l-.94 2.06-2.06.94zm10 10l.94 2.06.94-2.06 2.06-.94-2.06-.94-.94-2.06-.94 2.06-2.06.94z\"/><path d=\"M17.41 7.96l-1.37-1.37c-.4-.4-.92-.59-1.43-.59-.52 0-1.04.2-1.43.59L10.3 9.45l-7.72 7.72c-.78.78-.78 2.05 0 2.83L4 21.41c.39.39.9.59 1.41.59.51 0 1.02-.2 1.41-.59l7.78-7.78 2.81-2.81c.8-.78.8-2.07 0-2.86zM5.41 20L4 18.59l7.72-7.72 1.47 1.35L5.41 20z\"/>\n",
              "  </svg>\n",
              "      </button>\n",
              "      \n",
              "  <style>\n",
              "    .colab-df-container {\n",
              "      display:flex;\n",
              "      flex-wrap:wrap;\n",
              "      gap: 12px;\n",
              "    }\n",
              "\n",
              "    .colab-df-convert {\n",
              "      background-color: #E8F0FE;\n",
              "      border: none;\n",
              "      border-radius: 50%;\n",
              "      cursor: pointer;\n",
              "      display: none;\n",
              "      fill: #1967D2;\n",
              "      height: 32px;\n",
              "      padding: 0 0 0 0;\n",
              "      width: 32px;\n",
              "    }\n",
              "\n",
              "    .colab-df-convert:hover {\n",
              "      background-color: #E2EBFA;\n",
              "      box-shadow: 0px 1px 2px rgba(60, 64, 67, 0.3), 0px 1px 3px 1px rgba(60, 64, 67, 0.15);\n",
              "      fill: #174EA6;\n",
              "    }\n",
              "\n",
              "    [theme=dark] .colab-df-convert {\n",
              "      background-color: #3B4455;\n",
              "      fill: #D2E3FC;\n",
              "    }\n",
              "\n",
              "    [theme=dark] .colab-df-convert:hover {\n",
              "      background-color: #434B5C;\n",
              "      box-shadow: 0px 1px 3px 1px rgba(0, 0, 0, 0.15);\n",
              "      filter: drop-shadow(0px 1px 2px rgba(0, 0, 0, 0.3));\n",
              "      fill: #FFFFFF;\n",
              "    }\n",
              "  </style>\n",
              "\n",
              "      <script>\n",
              "        const buttonEl =\n",
              "          document.querySelector('#df-7e56a94b-fc5d-4c2a-8696-cbaab5eed2a7 button.colab-df-convert');\n",
              "        buttonEl.style.display =\n",
              "          google.colab.kernel.accessAllowed ? 'block' : 'none';\n",
              "\n",
              "        async function convertToInteractive(key) {\n",
              "          const element = document.querySelector('#df-7e56a94b-fc5d-4c2a-8696-cbaab5eed2a7');\n",
              "          const dataTable =\n",
              "            await google.colab.kernel.invokeFunction('convertToInteractive',\n",
              "                                                     [key], {});\n",
              "          if (!dataTable) return;\n",
              "\n",
              "          const docLinkHtml = 'Like what you see? Visit the ' +\n",
              "            '<a target=\"_blank\" href=https://colab.research.google.com/notebooks/data_table.ipynb>data table notebook</a>'\n",
              "            + ' to learn more about interactive tables.';\n",
              "          element.innerHTML = '';\n",
              "          dataTable['output_type'] = 'display_data';\n",
              "          await google.colab.output.renderOutput(dataTable, element);\n",
              "          const docLink = document.createElement('div');\n",
              "          docLink.innerHTML = docLinkHtml;\n",
              "          element.appendChild(docLink);\n",
              "        }\n",
              "      </script>\n",
              "    </div>\n",
              "  </div>\n",
              "  "
            ]
          },
          "metadata": {},
          "execution_count": 14
        }
      ],
      "source": [
        "# Check the current round number\n",
        "current_round_number = napi.get_current_round()\n",
        "\n",
        "# Download latest live features for the current round number\n",
        "napi.download_dataset(\"v4/live.parquet\", f\"v4/live_{current_round_number}.parquet\")\n",
        "\n",
        "# Load live features\n",
        "live_features = pd.read_parquet(f\"v4/live_{current_round_number}.parquet\", columns=feature_cols)\n",
        "\n",
        "# Generate live predictions with our trained model\n",
        "live_predictions = model.predict(live_features[feature_cols])\n",
        "\n",
        "# Format submission\n",
        "submission = pd.Series(live_predictions, index=live_features.index).to_frame(\"prediction\")\n",
        "submission"
      ]
    },
    {
      "cell_type": "markdown",
      "metadata": {
        "id": "XkntM7sJ-ewn"
      },
      "source": [
        "The simplest way to automate this daily process is to upload your model to Numerai and let Numerai take care of running it daily to generate live predictions.\n",
        "\n",
        "You can also host your own model if you prefer, see our [docs](https://docs.numer.ai/numerai-tournament/submissions#automation) for more advanced examples."
      ]
    },
    {
      "cell_type": "code",
      "execution_count": 16,
      "metadata": {
        "id": "RNUsF9f0-ewn"
      },
      "outputs": [],
      "source": [
        "# Wrap your model with a function that takes live features and returns live predictions\n",
        "def predict(live_features: pd.DataFrame) -> pd.DataFrame:\n",
        "    live_predictions = model.predict(live_features[feature_cols])\n",
        "    submission = pd.Series(live_predictions, index=live_features.index)\n",
        "    return submission.to_frame(\"prediction\")"
      ]
    },
    {
      "cell_type": "code",
      "execution_count": 17,
      "metadata": {
        "id": "hPyfa5GC-ewn",
        "outputId": "ee0d2948-4e40-47d6-a6b3-a9e711786aa5",
        "colab": {
          "base_uri": "https://localhost:8080/",
          "height": 450
        }
      },
      "outputs": [
        {
          "output_type": "execute_result",
          "data": {
            "text/plain": [
              "                  prediction\n",
              "id                          \n",
              "n0025ec595e6b746    0.499563\n",
              "n005a400142b2aca    0.499377\n",
              "n00786fdd8b2e8cc    0.508095\n",
              "n007b0b1584dda03    0.495172\n",
              "n00842a3981efe44    0.500060\n",
              "...                      ...\n",
              "nffd650e9af88117    0.501087\n",
              "nffec8aab346a375    0.492268\n",
              "nfff32c49bda2047    0.501001\n",
              "nfffab724eb0af46    0.505143\n",
              "nfffd42d417a3383    0.489460\n",
              "\n",
              "[4937 rows x 1 columns]"
            ],
            "text/html": [
              "\n",
              "  <div id=\"df-357481db-1e57-4989-8a3e-22868355f3d0\">\n",
              "    <div class=\"colab-df-container\">\n",
              "      <div>\n",
              "<style scoped>\n",
              "    .dataframe tbody tr th:only-of-type {\n",
              "        vertical-align: middle;\n",
              "    }\n",
              "\n",
              "    .dataframe tbody tr th {\n",
              "        vertical-align: top;\n",
              "    }\n",
              "\n",
              "    .dataframe thead th {\n",
              "        text-align: right;\n",
              "    }\n",
              "</style>\n",
              "<table border=\"1\" class=\"dataframe\">\n",
              "  <thead>\n",
              "    <tr style=\"text-align: right;\">\n",
              "      <th></th>\n",
              "      <th>prediction</th>\n",
              "    </tr>\n",
              "    <tr>\n",
              "      <th>id</th>\n",
              "      <th></th>\n",
              "    </tr>\n",
              "  </thead>\n",
              "  <tbody>\n",
              "    <tr>\n",
              "      <th>n0025ec595e6b746</th>\n",
              "      <td>0.499563</td>\n",
              "    </tr>\n",
              "    <tr>\n",
              "      <th>n005a400142b2aca</th>\n",
              "      <td>0.499377</td>\n",
              "    </tr>\n",
              "    <tr>\n",
              "      <th>n00786fdd8b2e8cc</th>\n",
              "      <td>0.508095</td>\n",
              "    </tr>\n",
              "    <tr>\n",
              "      <th>n007b0b1584dda03</th>\n",
              "      <td>0.495172</td>\n",
              "    </tr>\n",
              "    <tr>\n",
              "      <th>n00842a3981efe44</th>\n",
              "      <td>0.500060</td>\n",
              "    </tr>\n",
              "    <tr>\n",
              "      <th>...</th>\n",
              "      <td>...</td>\n",
              "    </tr>\n",
              "    <tr>\n",
              "      <th>nffd650e9af88117</th>\n",
              "      <td>0.501087</td>\n",
              "    </tr>\n",
              "    <tr>\n",
              "      <th>nffec8aab346a375</th>\n",
              "      <td>0.492268</td>\n",
              "    </tr>\n",
              "    <tr>\n",
              "      <th>nfff32c49bda2047</th>\n",
              "      <td>0.501001</td>\n",
              "    </tr>\n",
              "    <tr>\n",
              "      <th>nfffab724eb0af46</th>\n",
              "      <td>0.505143</td>\n",
              "    </tr>\n",
              "    <tr>\n",
              "      <th>nfffd42d417a3383</th>\n",
              "      <td>0.489460</td>\n",
              "    </tr>\n",
              "  </tbody>\n",
              "</table>\n",
              "<p>4937 rows × 1 columns</p>\n",
              "</div>\n",
              "      <button class=\"colab-df-convert\" onclick=\"convertToInteractive('df-357481db-1e57-4989-8a3e-22868355f3d0')\"\n",
              "              title=\"Convert this dataframe to an interactive table.\"\n",
              "              style=\"display:none;\">\n",
              "        \n",
              "  <svg xmlns=\"http://www.w3.org/2000/svg\" height=\"24px\"viewBox=\"0 0 24 24\"\n",
              "       width=\"24px\">\n",
              "    <path d=\"M0 0h24v24H0V0z\" fill=\"none\"/>\n",
              "    <path d=\"M18.56 5.44l.94 2.06.94-2.06 2.06-.94-2.06-.94-.94-2.06-.94 2.06-2.06.94zm-11 1L8.5 8.5l.94-2.06 2.06-.94-2.06-.94L8.5 2.5l-.94 2.06-2.06.94zm10 10l.94 2.06.94-2.06 2.06-.94-2.06-.94-.94-2.06-.94 2.06-2.06.94z\"/><path d=\"M17.41 7.96l-1.37-1.37c-.4-.4-.92-.59-1.43-.59-.52 0-1.04.2-1.43.59L10.3 9.45l-7.72 7.72c-.78.78-.78 2.05 0 2.83L4 21.41c.39.39.9.59 1.41.59.51 0 1.02-.2 1.41-.59l7.78-7.78 2.81-2.81c.8-.78.8-2.07 0-2.86zM5.41 20L4 18.59l7.72-7.72 1.47 1.35L5.41 20z\"/>\n",
              "  </svg>\n",
              "      </button>\n",
              "      \n",
              "  <style>\n",
              "    .colab-df-container {\n",
              "      display:flex;\n",
              "      flex-wrap:wrap;\n",
              "      gap: 12px;\n",
              "    }\n",
              "\n",
              "    .colab-df-convert {\n",
              "      background-color: #E8F0FE;\n",
              "      border: none;\n",
              "      border-radius: 50%;\n",
              "      cursor: pointer;\n",
              "      display: none;\n",
              "      fill: #1967D2;\n",
              "      height: 32px;\n",
              "      padding: 0 0 0 0;\n",
              "      width: 32px;\n",
              "    }\n",
              "\n",
              "    .colab-df-convert:hover {\n",
              "      background-color: #E2EBFA;\n",
              "      box-shadow: 0px 1px 2px rgba(60, 64, 67, 0.3), 0px 1px 3px 1px rgba(60, 64, 67, 0.15);\n",
              "      fill: #174EA6;\n",
              "    }\n",
              "\n",
              "    [theme=dark] .colab-df-convert {\n",
              "      background-color: #3B4455;\n",
              "      fill: #D2E3FC;\n",
              "    }\n",
              "\n",
              "    [theme=dark] .colab-df-convert:hover {\n",
              "      background-color: #434B5C;\n",
              "      box-shadow: 0px 1px 3px 1px rgba(0, 0, 0, 0.15);\n",
              "      filter: drop-shadow(0px 1px 2px rgba(0, 0, 0, 0.3));\n",
              "      fill: #FFFFFF;\n",
              "    }\n",
              "  </style>\n",
              "\n",
              "      <script>\n",
              "        const buttonEl =\n",
              "          document.querySelector('#df-357481db-1e57-4989-8a3e-22868355f3d0 button.colab-df-convert');\n",
              "        buttonEl.style.display =\n",
              "          google.colab.kernel.accessAllowed ? 'block' : 'none';\n",
              "\n",
              "        async function convertToInteractive(key) {\n",
              "          const element = document.querySelector('#df-357481db-1e57-4989-8a3e-22868355f3d0');\n",
              "          const dataTable =\n",
              "            await google.colab.kernel.invokeFunction('convertToInteractive',\n",
              "                                                     [key], {});\n",
              "          if (!dataTable) return;\n",
              "\n",
              "          const docLinkHtml = 'Like what you see? Visit the ' +\n",
              "            '<a target=\"_blank\" href=https://colab.research.google.com/notebooks/data_table.ipynb>data table notebook</a>'\n",
              "            + ' to learn more about interactive tables.';\n",
              "          element.innerHTML = '';\n",
              "          dataTable['output_type'] = 'display_data';\n",
              "          await google.colab.output.renderOutput(dataTable, element);\n",
              "          const docLink = document.createElement('div');\n",
              "          docLink.innerHTML = docLinkHtml;\n",
              "          element.appendChild(docLink);\n",
              "        }\n",
              "      </script>\n",
              "    </div>\n",
              "  </div>\n",
              "  "
            ]
          },
          "metadata": {},
          "execution_count": 17
        }
      ],
      "source": [
        "# Quick test\n",
        "predict(live_features)"
      ]
    },
    {
      "cell_type": "code",
      "execution_count": 18,
      "metadata": {
        "id": "DZu4tY_4-ewo"
      },
      "outputs": [],
      "source": [
        "# Use the cloudpickle library to serialize your function\n",
        "import cloudpickle\n",
        "p = cloudpickle.dumps(predict)\n",
        "with open(\"predict.pkl\", \"wb\") as f:\n",
        "    f.write(p)"
      ]
    },
    {
      "cell_type": "code",
      "execution_count": 20,
      "metadata": {
        "id": "rHuBn8kt-ewo",
        "colab": {
          "base_uri": "https://localhost:8080/",
          "height": 17
        },
        "outputId": "bbfb1d61-2ba7-4be4-94ff-fcdc865a8473"
      },
      "outputs": [
        {
          "output_type": "display_data",
          "data": {
            "text/plain": [
              "<IPython.core.display.Javascript object>"
            ],
            "application/javascript": [
              "\n",
              "    async function download(id, filename, size) {\n",
              "      if (!google.colab.kernel.accessAllowed) {\n",
              "        return;\n",
              "      }\n",
              "      const div = document.createElement('div');\n",
              "      const label = document.createElement('label');\n",
              "      label.textContent = `Downloading \"${filename}\": `;\n",
              "      div.appendChild(label);\n",
              "      const progress = document.createElement('progress');\n",
              "      progress.max = size;\n",
              "      div.appendChild(progress);\n",
              "      document.body.appendChild(div);\n",
              "\n",
              "      const buffers = [];\n",
              "      let downloaded = 0;\n",
              "\n",
              "      const channel = await google.colab.kernel.comms.open(id);\n",
              "      // Send a message to notify the kernel that we're ready.\n",
              "      channel.send({})\n",
              "\n",
              "      for await (const message of channel.messages) {\n",
              "        // Send a message to notify the kernel that we're ready.\n",
              "        channel.send({})\n",
              "        if (message.buffers) {\n",
              "          for (const buffer of message.buffers) {\n",
              "            buffers.push(buffer);\n",
              "            downloaded += buffer.byteLength;\n",
              "            progress.value = downloaded;\n",
              "          }\n",
              "        }\n",
              "      }\n",
              "      const blob = new Blob(buffers, {type: 'application/binary'});\n",
              "      const a = document.createElement('a');\n",
              "      a.href = window.URL.createObjectURL(blob);\n",
              "      a.download = filename;\n",
              "      div.appendChild(a);\n",
              "      a.click();\n",
              "      div.remove();\n",
              "    }\n",
              "  "
            ]
          },
          "metadata": {}
        },
        {
          "output_type": "display_data",
          "data": {
            "text/plain": [
              "<IPython.core.display.Javascript object>"
            ],
            "application/javascript": [
              "download(\"download_b501045d-e445-4111-9228-09df38e02625\", \"predict.pkl\", 6507279)"
            ]
          },
          "metadata": {}
        },
        {
          "output_type": "display_data",
          "data": {
            "text/plain": [
              "<IPython.core.display.Javascript object>"
            ],
            "application/javascript": [
              "\n",
              "    async function download(id, filename, size) {\n",
              "      if (!google.colab.kernel.accessAllowed) {\n",
              "        return;\n",
              "      }\n",
              "      const div = document.createElement('div');\n",
              "      const label = document.createElement('label');\n",
              "      label.textContent = `Downloading \"${filename}\": `;\n",
              "      div.appendChild(label);\n",
              "      const progress = document.createElement('progress');\n",
              "      progress.max = size;\n",
              "      div.appendChild(progress);\n",
              "      document.body.appendChild(div);\n",
              "\n",
              "      const buffers = [];\n",
              "      let downloaded = 0;\n",
              "\n",
              "      const channel = await google.colab.kernel.comms.open(id);\n",
              "      // Send a message to notify the kernel that we're ready.\n",
              "      channel.send({})\n",
              "\n",
              "      for await (const message of channel.messages) {\n",
              "        // Send a message to notify the kernel that we're ready.\n",
              "        channel.send({})\n",
              "        if (message.buffers) {\n",
              "          for (const buffer of message.buffers) {\n",
              "            buffers.push(buffer);\n",
              "            downloaded += buffer.byteLength;\n",
              "            progress.value = downloaded;\n",
              "          }\n",
              "        }\n",
              "      }\n",
              "      const blob = new Blob(buffers, {type: 'application/binary'});\n",
              "      const a = document.createElement('a');\n",
              "      a.href = window.URL.createObjectURL(blob);\n",
              "      a.download = filename;\n",
              "      div.appendChild(a);\n",
              "      a.click();\n",
              "      div.remove();\n",
              "    }\n",
              "  "
            ]
          },
          "metadata": {}
        },
        {
          "output_type": "display_data",
          "data": {
            "text/plain": [
              "<IPython.core.display.Javascript object>"
            ],
            "application/javascript": [
              "download(\"download_45e17fe4-2fe9-4126-8cde-da3aa718c2a9\", \"small_lgb.model\", 6503914)"
            ]
          },
          "metadata": {}
        }
      ],
      "source": [
        "# Download file if running in Google Colab\n",
        "try:\n",
        "    from google.colab import files\n",
        "    files.download('predict.pkl')\n",
        "except:\n",
        "    pass"
      ]
    },
    {
      "cell_type": "markdown",
      "metadata": {
        "id": "aWo6AAGV-ewo"
      },
      "source": [
        "That's it! Now head back to [numer.ai](https://numer.ai/tutorial/hello-numerai) to upload your model!"
      ]
    }
  ],
  "metadata": {
    "kernelspec": {
      "display_name": "Python 3 (ipykernel)",
      "language": "python",
      "name": "python3"
    },
    "language_info": {
      "codemirror_mode": {
        "name": "ipython",
        "version": 3
      },
      "file_extension": ".py",
      "mimetype": "text/x-python",
      "name": "python",
      "nbconvert_exporter": "python",
      "pygments_lexer": "ipython3",
      "version": "3.11.2"
    },
    "colab": {
      "provenance": [],
      "include_colab_link": true
    }
  },
  "nbformat": 4,
  "nbformat_minor": 0
}